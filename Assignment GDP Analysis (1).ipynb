{
 "cells": [
  {
   "cell_type": "markdown",
   "id": "254bdb1c-b099-49ad-aefb-bedc3ee6bcaf",
   "metadata": {},
   "source": [
    "\n",
    "\n",
    "1) How many unique Countries Data we're having in the dataset?"
   ]
  },
  {
   "cell_type": "markdown",
   "id": "555fb94a-a59b-4c8a-987c-e703bb9e9292",
   "metadata": {},
   "source": [
    "2) How many years of Data we're having for India"
   ]
  },
  {
   "cell_type": "markdown",
   "id": "f473955e-f22b-47d9-9115-ba96b58e77e6",
   "metadata": {},
   "source": [
    "\n",
    "3) Whats the world GDP in 1969?"
   ]
  },
  {
   "cell_type": "markdown",
   "id": "3dbe1d31-2b8f-472f-bd5f-b6001bf1dcba",
   "metadata": {},
   "source": [
    "4) Whats the % of GDP growth of India in Year 1994 (*as compare to 1993)?"
   ]
  },
  {
   "cell_type": "code",
   "execution_count": null,
   "id": "377cc61d-b892-4608-993d-1f9e6728cd57",
   "metadata": {},
   "outputs": [],
   "source": []
  },
  {
   "cell_type": "markdown",
   "id": "efeb01d8-72a9-4153-99e9-e60b6d402cd5",
   "metadata": {},
   "source": [
    "Tasks"
   ]
  },
  {
   "cell_type": "markdown",
   "id": "c99091d2-1ad4-40f2-ab54-8c0cfde9b906",
   "metadata": {},
   "source": [
    "Analyze GDP of Arab world\n",
    "Analyze GDP of World specially India"
   ]
  },
  {
   "cell_type": "markdown",
   "id": "b5e3580f-8097-4736-9886-d41e8f4fc43e",
   "metadata": {},
   "source": [
    "\n",
    "1) Find GDP Growth of India from 1960 - 2016\n",
    "2) Create a new columns named as GDP which shows the GDP growth of each country for that year\n",
    "3) Create a graph of GDP Growth of India from 1960 - 2016"
   ]
  },
  {
   "cell_type": "markdown",
   "id": "55c8c029-f375-44e0-a2cf-8961bd52fd79",
   "metadata": {},
   "source": [
    "Also Comparre GDP of India, China  and India, USA "
   ]
  },
  {
   "cell_type": "markdown",
   "id": "fc08c541-5583-4ce6-9293-b5960909fc90",
   "metadata": {},
   "source": [
    "Any other significant details you want to mention"
   ]
  },
  {
   "cell_type": "code",
   "execution_count": null,
   "id": "efdd844b-3796-4231-bb37-c2559a9f7022",
   "metadata": {},
   "outputs": [],
   "source": []
  },
  {
   "cell_type": "code",
   "execution_count": null,
   "id": "c7f333bd-2afc-440b-b3f7-4783ecc65680",
   "metadata": {},
   "outputs": [],
   "source": []
  }
 ],
 "metadata": {
  "kernelspec": {
   "display_name": "Python [conda env:base] *",
   "language": "python",
   "name": "conda-base-py"
  },
  "language_info": {
   "codemirror_mode": {
    "name": "ipython",
    "version": 3
   },
   "file_extension": ".py",
   "mimetype": "text/x-python",
   "name": "python",
   "nbconvert_exporter": "python",
   "pygments_lexer": "ipython3",
   "version": "3.13.5"
  }
 },
 "nbformat": 4,
 "nbformat_minor": 5
}
